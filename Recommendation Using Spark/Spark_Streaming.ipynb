{
  "nbformat": 4,
  "nbformat_minor": 0,
  "metadata": {
    "colab": {
      "provenance": []
    },
    "kernelspec": {
      "name": "python3",
      "display_name": "Python 3"
    },
    "language_info": {
      "name": "python"
    }
  },
  "cells": [
    {
      "cell_type": "code",
      "execution_count": 1,
      "metadata": {
        "colab": {
          "base_uri": "https://localhost:8080/"
        },
        "id": "0EI6lEOTyPB3",
        "outputId": "260ef18e-beca-48f8-a9c5-f33c099ed55b"
      },
      "outputs": [
        {
          "output_type": "stream",
          "name": "stdout",
          "text": [
            "Requirement already satisfied: pyspark in /usr/local/lib/python3.10/dist-packages (3.5.1)\n",
            "Requirement already satisfied: py4j==0.10.9.7 in /usr/local/lib/python3.10/dist-packages (from pyspark) (0.10.9.7)\n"
          ]
        }
      ],
      "source": [
        "!pip install pyspark\n",
        "!pip install -q findspark"
      ]
    },
    {
      "cell_type": "code",
      "source": [
        "import os\n",
        "\n",
        "import findspark\n",
        "findspark.init()\n",
        "\n",
        "from pyspark import SparkContext, SparkConf\n",
        "from pyspark.streaming import StreamingContext\n",
        "import time"
      ],
      "metadata": {
        "id": "JH3Uc2k2yUdh"
      },
      "execution_count": 2,
      "outputs": []
    },
    {
      "cell_type": "code",
      "source": [
        "# This function creates SparkContext and StreamingContext\n",
        "def initStreamingContext():\n",
        "    try:\n",
        "      ssc.end()\n",
        "    except:\n",
        "      pass\n",
        "    finally:\n",
        "      spark_conf = SparkConf()\\\n",
        "            .setAppName(\"IrTest\")\\\n",
        "            .setMaster(\"local[*]\")\n",
        "      sc = SparkContext.getOrCreate(spark_conf)\n",
        "      # Creating Streaming Context with batch window size of 1 second\n",
        "      ssc = StreamingContext(sc, 1)\n",
        "      return ssc"
      ],
      "metadata": {
        "id": "EsCzl_aOyWiE"
      },
      "execution_count": 3,
      "outputs": []
    },
    {
      "cell_type": "code",
      "source": [
        "# Let's create ssc.\n",
        "ssc = initStreamingContext()\n",
        "# Initialize a DStream by connecting it to a TCP socket.\n",
        "# The server will start sending data which goes to the robotData DStream.\n",
        "robotData = ssc.socketTextStream(\"datasci.cs.uwaterloo.ca\", 4321)\n",
        "robotData.pprint()\n",
        "ssc.start()\n",
        "# Just wait 5 seconds before the stream stop.\n",
        "time.sleep(5)\n",
        "ssc.stop()"
      ],
      "metadata": {
        "colab": {
          "base_uri": "https://localhost:8080/"
        },
        "id": "qpAz1SB81uRU",
        "outputId": "bc19a8fa-c43e-4715-d3b3-6fd3f9938293"
      },
      "execution_count": 4,
      "outputs": [
        {
          "output_type": "stream",
          "name": "stderr",
          "text": [
            "/usr/local/lib/python3.10/dist-packages/pyspark/streaming/context.py:72: FutureWarning: DStream is deprecated as of Spark 3.4.0. Migrate to Structured Streaming.\n",
            "  warnings.warn(\n"
          ]
        },
        {
          "output_type": "stream",
          "name": "stdout",
          "text": [
            "-------------------------------------------\n",
            "Time: 2024-05-25 17:40:46\n",
            "-------------------------------------------\n",
            "\n",
            "-------------------------------------------\n",
            "Time: 2024-05-25 17:40:47\n",
            "-------------------------------------------\n",
            "\n",
            "-------------------------------------------\n",
            "Time: 2024-05-25 17:40:48\n",
            "-------------------------------------------\n",
            "0.438,0.498,3.625,3.645,5.000,2.918,5.000,2.351,2.332,2.643,1.698,1.687,1.698,1.717,1.744,0.593,0.502,0.493,0.504,0.445,0.431,0.444,0.440,0.429,Slight-Right-Turn\n",
            "0.438,0.498,3.625,3.648,5.000,2.918,5.000,2.637,2.332,2.649,1.695,1.687,1.695,1.720,1.744,0.592,0.502,0.493,0.504,0.449,0.431,0.444,0.443,0.429,Slight-Right-Turn\n",
            "\n",
            "-------------------------------------------\n",
            "Time: 2024-05-25 17:40:49\n",
            "-------------------------------------------\n",
            "0.438,0.498,3.625,3.629,5.000,2.918,5.000,2.637,2.334,2.643,1.696,1.687,1.695,1.717,1.744,0.593,0.502,0.493,0.504,0.449,0.431,0.444,0.446,0.429,Slight-Right-Turn\n",
            "0.437,0.501,3.625,3.626,5.000,2.918,5.000,2.353,2.334,2.642,1.730,1.687,1.695,1.717,1.744,0.593,0.502,0.493,0.504,0.449,0.431,0.444,0.444,0.429,Slight-Right-Turn\n",
            "0.438,0.498,3.626,3.629,5.000,2.918,5.000,2.640,2.334,2.639,1.696,1.687,1.695,1.717,1.744,0.592,0.502,0.493,0.504,0.449,0.431,0.444,0.441,0.429,Slight-Right-Turn\n",
            "0.439,0.498,3.626,3.629,5.000,2.918,5.000,2.633,2.334,2.645,1.705,1.686,1.694,1.719,1.744,0.589,0.502,0.493,0.504,0.446,0.431,0.444,0.444,0.430,Slight-Right-Turn\n",
            "0.440,5.000,3.627,3.628,5.000,2.919,3.028,2.346,2.330,2.638,1.727,1.684,1.692,1.714,1.745,0.588,0.501,0.492,0.504,0.451,0.433,0.446,0.444,0.432,Slight-Right-Turn\n",
            "0.444,5.021,3.631,3.634,5.000,2.919,5.000,2.626,2.327,2.638,1.698,1.680,1.688,1.709,1.740,0.595,0.500,0.491,0.503,0.453,0.436,0.448,0.444,0.436,Slight-Right-Turn\n",
            "0.451,5.025,3.635,3.639,5.000,2.920,3.027,2.620,2.323,2.632,1.706,1.673,1.681,1.703,0.753,0.595,0.499,0.491,0.502,0.457,0.440,0.453,0.454,0.442,Sharp-Right-Turn\n",
            "0.458,5.022,3.640,3.644,5.000,2.922,5.000,2.346,2.321,2.628,1.688,1.666,1.674,1.696,0.744,0.590,0.496,0.490,0.498,0.462,0.444,0.458,0.461,0.449,Sharp-Right-Turn\n",
            "0.465,0.525,3.646,3.670,5.000,2.923,5.000,2.611,2.315,2.631,1.674,1.658,1.666,1.688,0.735,0.593,0.495,0.488,0.497,0.467,0.449,0.462,0.469,0.457,Sharp-Right-Turn\n",
            "0.473,0.533,3.652,3.676,5.000,2.925,5.000,2.607,2.310,2.623,1.669,1.651,1.659,1.684,0.729,0.578,0.496,0.487,0.498,0.469,0.454,0.467,0.476,0.465,Sharp-Right-Turn\n",
            "\n",
            "-------------------------------------------\n",
            "Time: 2024-05-25 17:40:50\n",
            "-------------------------------------------\n",
            "0.481,0.544,3.658,3.678,5.000,2.926,5.000,2.606,2.303,2.619,1.668,1.643,1.651,1.275,0.723,0.581,0.495,0.486,0.497,0.477,0.459,0.472,0.484,0.472,Sharp-Right-Turn\n",
            "0.484,0.544,3.661,3.665,5.000,2.928,5.000,2.321,2.304,5.022,1.647,1.639,1.646,1.270,0.757,0.623,0.493,0.484,0.495,0.480,0.461,0.474,0.485,0.476,Sharp-Right-Turn\n",
            "0.484,0.532,3.669,3.662,2.945,2.926,5.000,2.326,2.306,2.620,1.648,1.639,1.646,1.270,0.760,0.533,0.493,0.483,0.494,0.507,0.461,0.473,0.486,0.476,Sharp-Right-Turn\n",
            "0.482,0.520,3.685,3.664,2.952,2.927,5.000,2.981,2.307,2.329,1.650,1.640,1.644,1.268,0.757,0.533,0.492,0.482,0.492,0.513,0.459,0.474,0.485,0.474,Sharp-Right-Turn\n",
            "0.481,0.522,3.682,3.661,2.955,2.927,2.957,2.984,1.700,2.622,1.651,1.641,1.645,1.272,0.761,0.530,0.492,0.482,0.492,0.513,0.462,0.486,0.483,0.473,Sharp-Right-Turn\n",
            "0.480,0.525,3.694,3.664,2.948,2.926,2.950,2.995,1.697,2.619,1.651,1.642,1.646,1.269,0.762,0.530,0.493,0.482,0.492,0.516,0.462,0.486,0.483,0.473,Sharp-Right-Turn\n",
            "0.481,0.515,5.018,3.664,2.956,2.927,2.947,2.993,1.697,2.622,1.651,1.641,1.645,1.269,0.765,0.592,0.489,0.482,0.495,0.531,0.462,0.499,0.483,0.473,Sharp-Right-Turn\n",
            "0.479,5.000,3.696,3.661,2.953,2.927,2.944,2.993,1.702,2.622,1.649,1.642,1.645,1.269,0.812,0.588,0.489,0.481,0.491,0.510,0.462,0.481,0.483,0.473,Sharp-Right-Turn\n",
            "0.480,0.506,5.019,3.665,2.941,2.929,2.945,2.981,1.700,2.616,1.652,1.642,1.645,1.271,0.814,0.643,0.491,0.480,0.493,0.524,0.461,0.469,0.484,0.473,Sharp-Right-Turn\n",
            "0.479,5.000,5.019,3.661,2.943,2.930,2.942,2.996,1.698,2.312,1.653,1.642,1.644,1.274,0.811,0.617,0.491,0.479,0.491,0.575,0.461,0.465,0.484,0.473,Sharp-Right-Turn\n",
            "\n"
          ]
        }
      ]
    },
    {
      "cell_type": "code",
      "source": [
        "ssc = initStreamingContext()\n",
        "robotData = ssc.socketTextStream(\"datasci.cs.uwaterloo.ca\", 4321)\n",
        "\n",
        "# flattening the sensor values, windowing back to 3 seconds and reducing to find the minimum\n",
        "robotData_min = robotData.flatMap(lambda x: x.split(',')[:24]).window(3, 1).reduce(lambda x, y: x if x < y else y)\n",
        "robotData_min.pprint()\n",
        "\n",
        "ssc.start()\n",
        "# Let's wait for 10 seconds before the program is stopped.\n",
        "time.sleep(10)\n",
        "ssc.stop()"
      ],
      "metadata": {
        "colab": {
          "base_uri": "https://localhost:8080/"
        },
        "id": "BQBU3QUh1wXN",
        "outputId": "e191d074-7506-4d8a-8540-9fee6894624c"
      },
      "execution_count": 5,
      "outputs": [
        {
          "output_type": "stream",
          "name": "stdout",
          "text": [
            "-------------------------------------------\n",
            "Time: 2024-05-25 17:41:18\n",
            "-------------------------------------------\n",
            "0.429\n",
            "\n",
            "-------------------------------------------\n",
            "Time: 2024-05-25 17:41:19\n",
            "-------------------------------------------\n",
            "0.429\n",
            "\n"
          ]
        }
      ]
    },
    {
      "cell_type": "code",
      "source": [
        "ssc = initStreamingContext()\n",
        "robotData = ssc.socketTextStream(\"datasci.cs.uwaterloo.ca\", 4321)\n",
        "\n",
        "# extract movements and perform windowing\n",
        "robotData = robotData.map(lambda x: x.split(',')[24]).window(3, 1).cache()\n",
        "\n",
        "# counting total and adding temporary key for joining\n",
        "count = robotData.count().map(lambda x: ('windowKey', x))\n",
        "\n",
        "# counting by value and adding temporary key for joining\n",
        "robotData = robotData.countByValue().map(lambda x: ('windowKey', x))\n",
        "\n",
        "# joining to get ratios\n",
        "merged = robotData.join(count).map(lambda x: (x[1][0][1] / x[1][1], x[1][0][0]))\n",
        "\n",
        "def print_rdd(rdd):\n",
        "  \"Custom print function for individual RDDs.\"\n",
        "  rdd = rdd.sortByKey(False).map(lambda x: (x[1], x[0]))\n",
        "  result = rdd.collect()\n",
        "  print(\"----------\")\n",
        "  for record in result:\n",
        "    print(record[0], record[1])\n",
        "\n",
        "# perform action for each RDD\n",
        "merged.foreachRDD(print_rdd)\n",
        "\n",
        "ssc.start()\n",
        "time.sleep(10)\n",
        "ssc.stop()"
      ],
      "metadata": {
        "colab": {
          "base_uri": "https://localhost:8080/"
        },
        "id": "yzomSlWD16Fl",
        "outputId": "8e15c275-7d4c-484f-e346-3e40523f37a4"
      },
      "execution_count": 6,
      "outputs": [
        {
          "output_type": "stream",
          "name": "stdout",
          "text": [
            "----------\n",
            "Slight-Right-Turn 1.0\n"
          ]
        }
      ]
    },
    {
      "cell_type": "code",
      "source": [],
      "metadata": {
        "id": "Auipey8i2GYF"
      },
      "execution_count": null,
      "outputs": []
    }
  ]
}